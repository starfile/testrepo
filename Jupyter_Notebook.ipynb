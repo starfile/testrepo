{
 "cells": [
  {
   "cell_type": "markdown",
   "metadata": {},
   "source": [
    "<center>\n",
    "    <img src=\"https://s3-api.us-geo.objectstorage.softlayer.net/cf-courses-data/CognitiveClass/Logos/organization_logo/organization_logo.png\" width=\"300\" alt=\"cognitiveclass.ai logo\"  />\n",
    "</center>\n"
   ]
  },
  {
   "cell_type": "markdown",
   "metadata": {},
   "source": [
    "#### Add your code below following the instructions given in the course\n"
   ]
  },
  {
   "cell_type": "markdown",
   "metadata": {},
   "source": [
    "# My Jupyter Notebook on IBM Watson Studio"
   ]
  },
  {
   "cell_type": "markdown",
   "metadata": {},
   "source": [
    "**Bart**\n",
    "\n",
    "Data Analytics"
   ]
  },
  {
   "cell_type": "markdown",
   "metadata": {},
   "source": [
    "*I am interested in data science because I want explore patterns in data and how they affect our life.*"
   ]
  },
  {
   "cell_type": "markdown",
   "metadata": {},
   "source": [
    "### The code below prints the primes of natural numbers lower than ten."
   ]
  },
  {
   "cell_type": "code",
   "execution_count": 1,
   "metadata": {},
   "outputs": [
    {
     "name": "stdout",
     "output_type": "stream",
     "text": [
      "1\n",
      "3\n",
      "5\n",
      "7\n",
      "9\n"
     ]
    }
   ],
   "source": [
    "for i in range(0,10):\n",
    "    if i % 2 != 0:\n",
    "        print(i)"
   ]
  },
  {
   "cell_type": "markdown",
   "metadata": {},
   "source": [
    "The instruction below covers:\n",
    "\n",
    "1. Introduction to the data set.\n",
    "2. How to calculate the arithmetic mean using Python.\n",
    "3. How to calculate the variance using mathematical formula.\n",
    "\n",
    "The table below shows the weekly earnings of programmers in £ in 2011 of a company.\n",
    "\n",
    "| x |\n",
    "|---|\n",
    "| 465 | \n",
    "| 484 |\n",
    "| 620 |\n",
    "| 654 |\n",
    "| 855 |\n",
    "| 858 |\n",
    "\n",
    "The mean of x is\n",
    "\n",
    "> £656\n",
    "\n",
    "and can be calculated by the Python code below.\n",
    "\n",
    "``` python\n",
    "x = [465, 484, 620, 654, 855, 858]\n",
    "meanOfX = sum(x)/len(x)\n",
    "print(f'Mean of x is £{meanOfX}')\n",
    "```\n",
    "\n",
    "Use the mean of x and the formula below to calculate the variance which is 29554 ~~(to nearest whole number)~~.\n",
    "\n",
    "<img src=\"https://www.gstatic.com/education/formulas2/472522532/en/sample_variance.svg\" alt=\"variance formula\"/>\n",
    "\n",
    "---\n",
    "\n",
    "More information about variance can be found below\n",
    "\n",
    "* <a href=\"https://en.wikipedia.org/wiki/Variance\">https://en.wikipedia.org/wiki/Variance</a>.\n",
    "* <a href=\"https://www.britannica.com/topic/variance\">https://www.britannica.com/topic/variance</a>."
   ]
  }
 ],
 "metadata": {
  "kernelspec": {
   "display_name": "Python",
   "language": "python",
   "name": "conda-env-python-py"
  },
  "language_info": {
   "codemirror_mode": {
    "name": "ipython",
    "version": 3
   },
   "file_extension": ".py",
   "mimetype": "text/x-python",
   "name": "python",
   "nbconvert_exporter": "python",
   "pygments_lexer": "ipython3",
   "version": "3.7.12"
  }
 },
 "nbformat": 4,
 "nbformat_minor": 4
}
